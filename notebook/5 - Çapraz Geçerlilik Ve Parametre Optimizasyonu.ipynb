{
 "cells": [
  {
   "cell_type": "markdown",
   "metadata": {},
   "source": [
    "# AB2017 - Python ile Pratik Makine Öğrenimi\n",
    "\n",
    "Bu dökümanda çapraz geçerlilik ile parametre optimizasyonu ile ilgili örnekler yapacağız."
   ]
  },
  {
   "cell_type": "code",
   "execution_count": 1,
   "metadata": {
    "collapsed": true
   },
   "outputs": [],
   "source": [
    "%matplotlib inline\n",
    "import matplotlib.pyplot as plt\n",
    "import numpy as np\n",
    "from sklearn import datasets"
   ]
  },
  {
   "cell_type": "markdown",
   "metadata": {},
   "source": [
    "İçindeki örnek sayısı az olduğundan **Iris** veri seti üstünde çapraz geçerlilik deneyeceğiz. Bunun için veri setini değişkenlere atadık."
   ]
  },
  {
   "cell_type": "code",
   "execution_count": 2,
   "metadata": {
    "collapsed": false
   },
   "outputs": [],
   "source": [
    "iris = datasets.load_iris()\n",
    "\n",
    "X = iris.data\n",
    "y = iris.target"
   ]
  },
  {
   "cell_type": "markdown",
   "metadata": {},
   "source": [
    "Yine önceki örneklerde olduğu gibi bize bir model gerekecek. Burada Karar Ağaçı (DecisionTreeClassifier) seçmemin özel bir sebebi yok, istediğiniz sınıflandırıcı modeli deneyebilirsiniz.\n",
    "\n",
    "Burada **StratifiedKFold** sınıfının işleyişine gözatalım. Bu sistem verisetimizi 10 (n_folds parametresi) farklı parçaya ayıracak. Her bir parça için şu işlemler yapılacak:\n",
    "\n",
    "* Geri kalan tüm parçaları (örnekte 9 tane, n_folds - 1) eğitim için kullan\n",
    "* Tutulan parçayı test için kullan\n",
    "\n",
    "Yani toplamda 10 (n_folds kadar) farklı eğitim yapılacak.\n",
    "\n",
    "Bunun yanı sıra, seçtiğimiz model için farklı parametrelerin ne gibi değişiklikler sağladığını merak ediyor olabiliriz. Bunun için **parameters** adlı bir sözlükde, o modele ait istediğimiz parametreler için, istediğimiz değerleri yazıyoruz. Buradaki örnekde karar ağacı için azami derinliği 1'den 10'a kadar seçtik. Azami öznitelik sayısı ise 1'den 4'e kadar.\n",
    "\n",
    "Son olarak **GridSearchCV** adlı model elimizdeki tüm parametre kombinasyonları ve çapraz geçerlilik durumları için eğitimleri gerçekleştirecek. Buradaki yani toplamda 10x10x4'den 400 farklı eğitim gerçekleştirilecek ve bunların en iyisi kullanılacak."
   ]
  },
  {
   "cell_type": "code",
   "execution_count": 4,
   "metadata": {
    "collapsed": false
   },
   "outputs": [
    {
     "name": "stdout",
     "output_type": "stream",
     "text": [
      "DecisionTreeClassifier(class_weight=None, criterion='gini', max_depth=9,\n",
      "            max_features=2, max_leaf_nodes=None, min_impurity_split=1e-07,\n",
      "            min_samples_leaf=1, min_samples_split=2,\n",
      "            min_weight_fraction_leaf=0.0, presort=False, random_state=None,\n",
      "            splitter='best')\n"
     ]
    }
   ],
   "source": [
    "from sklearn.cross_validation import StratifiedKFold\n",
    "from sklearn.grid_search import GridSearchCV\n",
    "from sklearn.tree import DecisionTreeClassifier\n",
    "\n",
    "model = DecisionTreeClassifier()\n",
    "\n",
    "parameters = { 'max_depth': list(range(1, 11)),\n",
    "               'max_features': [1, 2, 3, 4]}\n",
    "\n",
    "cv = StratifiedKFold(y, n_folds=10)\n",
    "\n",
    "grid = GridSearchCV(model, param_grid=parameters, cv=cv)\n",
    "\n",
    "grid.fit(X, y)\n",
    "\n",
    "print grid.best_estimator_"
   ]
  },
  {
   "cell_type": "markdown",
   "metadata": {},
   "source": [
    "**GridSearchCV** sistemi eğitim için kullandığımız modellerle neredeyse aynı API'ye sahip. Eğitmek için **fit**, tahmin etmek için **predict**, skor çıkarmak için **score** metodları mevcut.\n",
    "\n",
    "Bundan farklı olarak **grid.best\\_estimator\\_ ** şeklinde grid'in içindeki en başarılı modele doğrudan ulaşabiliriz. Tabi en yüksek eğitim skoruna da."
   ]
  },
  {
   "cell_type": "code",
   "execution_count": 5,
   "metadata": {
    "collapsed": false
   },
   "outputs": [
    {
     "name": "stdout",
     "output_type": "stream",
     "text": [
      "0.973333333333\n"
     ]
    }
   ],
   "source": [
    "print grid.best_score_"
   ]
  },
  {
   "cell_type": "markdown",
   "metadata": {},
   "source": [
    "En başarılı model üstünde doğrudan tahmin işlemlerini de gerçekleştirebiliriz."
   ]
  },
  {
   "cell_type": "code",
   "execution_count": 6,
   "metadata": {
    "collapsed": false
   },
   "outputs": [
    {
     "name": "stdout",
     "output_type": "stream",
     "text": [
      "Tahmin edilen sınıf: 0\n"
     ]
    }
   ],
   "source": [
    "sample = np.array([4.0, 3.0, 2.0, 5.0]).reshape(1, -1)\n",
    "\n",
    "print(u\"Tahmin edilen sınıf: %d\" % grid.best_estimator_.predict(sample)[0])"
   ]
  },
  {
   "cell_type": "markdown",
   "metadata": {},
   "source": [
    "Şimdi benzer bir örneği meme kanseri veri seti üstünde gerçekleştirelim. Bu veri setinde de örnek sayısı yeteri kadar fazla değil. Bu nedenle çapraz geçerlilik yapmamız gerekecek. Bir de en iyi parametreleri bulmak için **GridSearchCV** kullanacağız."
   ]
  },
  {
   "cell_type": "code",
   "execution_count": 7,
   "metadata": {
    "collapsed": true
   },
   "outputs": [],
   "source": [
    "cancer = datasets.load_breast_cancer()\n",
    "\n",
    "X = cancer.data\n",
    "y = cancer.target"
   ]
  },
  {
   "cell_type": "code",
   "execution_count": 8,
   "metadata": {
    "collapsed": false
   },
   "outputs": [
    {
     "name": "stdout",
     "output_type": "stream",
     "text": [
      "DecisionTreeClassifier(class_weight=None, criterion='gini', max_depth=7,\n",
      "            max_features=13, max_leaf_nodes=None, min_impurity_split=1e-07,\n",
      "            min_samples_leaf=1, min_samples_split=2,\n",
      "            min_weight_fraction_leaf=0.0, presort=False, random_state=None,\n",
      "            splitter='best')\n",
      "0.952548330404\n"
     ]
    }
   ],
   "source": [
    "model = DecisionTreeClassifier()\n",
    "\n",
    "parameters = {\n",
    "    'max_depth': list(range(1, 26)),\n",
    "    'max_features': list(range(1, 31))\n",
    "}\n",
    "\n",
    "cv = StratifiedKFold(y, n_folds=15)\n",
    "\n",
    "grid = GridSearchCV(model, param_grid=parameters, cv=cv)\n",
    "grid.fit(X, y)\n",
    "\n",
    "print grid.best_estimator_\n",
    "\n",
    "print grid.best_score_"
   ]
  },
  {
   "cell_type": "markdown",
   "metadata": {},
   "source": [
    "**GridSearchCV** sistemiyle ilgili bir örneğe daha göz atalım. Önceki sınıflandırma örneklerindeki el yazısından rakamları tahmin etmeyi deneyeceğiz. Veri setini yükleyip %30'unu teste ayırıyoruz:"
   ]
  },
  {
   "cell_type": "code",
   "execution_count": 9,
   "metadata": {
    "collapsed": false
   },
   "outputs": [],
   "source": [
    "from sklearn.model_selection import train_test_split\n",
    "\n",
    "data = datasets.load_digits()\n",
    "\n",
    "X = data.data\n",
    "y = data.target\n",
    "\n",
    "X_train, X_test, y_train, y_test = train_test_split(X, y, test_size=.30)"
   ]
  },
  {
   "cell_type": "markdown",
   "metadata": {},
   "source": [
    "Model olarak SVC seçtik. Önceki parametre optimizasyonlarından farklı olarak bu sefer bir liste içinde iki farklı sözlük verdik. İlkinde 12, ikincisinde ise 4 farklı kombinasyon mevcut. Yani her bir **grid**'de 16 farklı eğitim olacak.\n",
    "\n",
    "Bunun yanı sıra grid sisteminin skorlama kriterini de değiştirmemiz mümkün. Bunun için **scoring** adlı anahtar kelime argümanına örneğin **\"precision_macro\"** şeklinde bir değer vermemiz gerekiyor."
   ]
  },
  {
   "cell_type": "code",
   "execution_count": 10,
   "metadata": {
    "collapsed": false
   },
   "outputs": [
    {
     "name": "stdout",
     "output_type": "stream",
     "text": [
      "Skor tipi: precision\n",
      "Parametreler:\n",
      "{'kernel': 'rbf', 'C': 10, 'gamma': 0.0005}\n",
      "Eğitim Skoru: 0.98929352\n",
      "Test Skoru: 0.99259259\n",
      "\n",
      "Skor tipi: recall\n",
      "Parametreler:\n",
      "{'kernel': 'rbf', 'C': 10, 'gamma': 0.0005}\n",
      "Eğitim Skoru: 0.98907904\n",
      "Test Skoru: 0.99259259\n",
      "\n"
     ]
    }
   ],
   "source": [
    "from sklearn.svm import SVC\n",
    "\n",
    "model = SVC()\n",
    "\n",
    "parameters = [\n",
    "    {'kernel': ['rbf'], 'gamma': [1e-3, 5e-4, 1e-4], 'C': [1, 10, 100, 1000]},\n",
    "    {'kernel': ['linear'], 'C': [1, 10, 100, 1000]}\n",
    "]\n",
    "\n",
    "scores = ['precision', 'recall']\n",
    "\n",
    "my_model = None\n",
    "\n",
    "for score in scores:\n",
    "    grid = GridSearchCV(estimator=SVC(probability=True),\n",
    "                        param_grid=parameters,\n",
    "                        scoring='%s_macro' % score)\n",
    "    \n",
    "    grid.fit(X_train, y_train)\n",
    "    \n",
    "    print(\"Skor tipi: %s\" % score)\n",
    "    print(\"Parametreler:\")\n",
    "    print(grid.best_params_)\n",
    "    \n",
    "    print(\"Eğitim Skoru: %.8f\" % grid.best_score_)\n",
    "    print(\"Test Skoru: %.8f\" % grid.best_estimator_.score(X_test, y_test))\n",
    "    print\n",
    "    my_model = grid.best_estimator_"
   ]
  },
  {
   "cell_type": "markdown",
   "metadata": {},
   "source": [
    "Önceki örneklerden farklı olarak, bir tahmin yaptığımızda bu sefer tüm sınıflara ait confidence değerlerini yüzde şeklinde çıkartalım:"
   ]
  },
  {
   "cell_type": "code",
   "execution_count": 11,
   "metadata": {
    "collapsed": false
   },
   "outputs": [
    {
     "name": "stdout",
     "output_type": "stream",
     "text": [
      "Tahmin edilen değer: 5\n",
      "\n",
      "Sonucun 0 olma ihtimali: %0.43\n",
      "Sonucun 1 olma ihtimali: %0.16\n",
      "Sonucun 2 olma ihtimali: %0.15\n",
      "Sonucun 3 olma ihtimali: %0.43\n",
      "Sonucun 4 olma ihtimali: %0.10\n",
      "Sonucun 5 olma ihtimali: %95.58\n",
      "Sonucun 6 olma ihtimali: %0.25\n",
      "Sonucun 7 olma ihtimali: %0.10\n",
      "Sonucun 8 olma ihtimali: %0.23\n",
      "Sonucun 9 olma ihtimali: %2.56\n"
     ]
    },
    {
     "data": {
      "text/plain": [
       "<matplotlib.image.AxesImage at 0x7f12d952b5d0>"
      ]
     },
     "execution_count": 11,
     "metadata": {},
     "output_type": "execute_result"
    },
    {
     "data": {
      "image/png": "[encoded data removed]",
      "text/plain": [
       "<matplotlib.figure.Figure at 0x7f12d944f390>"
      ]
     },
     "metadata": {},
     "output_type": "display_data"
    }
   ],
   "source": [
    "sample = X_test[150, :].reshape(1, -1)\n",
    "\n",
    "print(u'Tahmin edilen değer: %d\\n' % my_model.predict(sample)[0])\n",
    "\n",
    "for index, value in enumerate(my_model.predict_proba(sample)[0]):\n",
    "    print(u\"Sonucun %d olma ihtimali: %%%.2f\" % (index, float(value * 100.0)))\n",
    "\n",
    "plt.imshow(sample.reshape(8, 8), cmap=plt.cm.gray_r, interpolation='nearest')"
   ]
  },
  {
   "cell_type": "markdown",
   "metadata": {},
   "source": [
    "Eğittiğimiz bu modeli artık bir dosyaya kaydetmemiz gerekiyor. Bunun için **joblib** adlı bir modül kullanacağız."
   ]
  },
  {
   "cell_type": "code",
   "execution_count": 12,
   "metadata": {
    "collapsed": false
   },
   "outputs": [
    {
     "data": {
      "text/plain": [
       "['data/sayi_tahmin.pkl']"
      ]
     },
     "execution_count": 12,
     "metadata": {},
     "output_type": "execute_result"
    }
   ],
   "source": [
    "from sklearn.externals import joblib\n",
    "\n",
    "joblib.dump(my_model, 'data/sayi_tahmin.pkl')"
   ]
  },
  {
   "cell_type": "markdown",
   "metadata": {},
   "source": [
    "Aynı modülü kullanarak modeli dosyadan çekip kullanmaya başlayabiliriz."
   ]
  },
  {
   "cell_type": "code",
   "execution_count": 13,
   "metadata": {
    "collapsed": false
   },
   "outputs": [
    {
     "name": "stdout",
     "output_type": "stream",
     "text": [
      "Tahmin edilen değer: 5\n",
      "\n",
      "Sonucun 0 olma ihtimali: %0.43\n",
      "Sonucun 1 olma ihtimali: %0.16\n",
      "Sonucun 2 olma ihtimali: %0.15\n",
      "Sonucun 3 olma ihtimali: %0.43\n",
      "Sonucun 4 olma ihtimali: %0.10\n",
      "Sonucun 5 olma ihtimali: %95.58\n",
      "Sonucun 6 olma ihtimali: %0.25\n",
      "Sonucun 7 olma ihtimali: %0.10\n",
      "Sonucun 8 olma ihtimali: %0.23\n",
      "Sonucun 9 olma ihtimali: %2.56\n"
     ]
    },
    {
     "data": {
      "text/plain": [
       "<matplotlib.image.AxesImage at 0x7f12d9831090>"
      ]
     },
     "execution_count": 13,
     "metadata": {},
     "output_type": "execute_result"
    },
    {
     "data": {
      "image/png": "[encoded data removed]",
      "text/plain": [
       "<matplotlib.figure.Figure at 0x7f12d93af050>"
      ]
     },
     "metadata": {},
     "output_type": "display_data"
    }
   ],
   "source": [
    "model = joblib.load('data/sayi_tahmin.pkl')\n",
    "\n",
    "\n",
    "sample = X_test[150, :].reshape(1, -1)\n",
    "\n",
    "print(u'Tahmin edilen değer: %d\\n' % my_model.predict(sample)[0])\n",
    "\n",
    "for index, value in enumerate(model.predict_proba(sample)[0]):\n",
    "    print(\"Sonucun %d olma ihtimali: %%%.2f\" % (index, float(value * 100.0)))\n",
    "\n",
    "plt.imshow(sample.reshape(8, 8), cmap=plt.cm.gray_r, interpolation='nearest')"
   ]
  }
 ],
 "metadata": {
  "anaconda-cloud": {},
  "kernelspec": {
   "display_name": "Python 2",
   "language": "python",
   "name": "python2"
  },
  "language_info": {
   "codemirror_mode": {
    "name": "ipython",
    "version": 2
   },
   "file_extension": ".py",
   "mimetype": "text/x-python",
   "name": "python",
   "nbconvert_exporter": "python",
   "pygments_lexer": "ipython2",
   "version": "2.7.13"
  }
 },
 "nbformat": 4,
 "nbformat_minor": 2
}
