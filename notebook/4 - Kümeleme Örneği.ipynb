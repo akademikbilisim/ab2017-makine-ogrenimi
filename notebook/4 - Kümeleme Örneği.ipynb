{
 "cells": [
  {
   "cell_type": "markdown",
   "metadata": {},
   "source": [
    "# AB2017 - Python ile Pratik Makine Öğrenimi\n",
    "\n",
    "Bu dökümanda kümeleme tipi makine öğrenimi örneği yapacağız. Yine gerekli bazı modülleri import ederek başlıyoruz."
   ]
  },
  {
   "cell_type": "code",
   "execution_count": 1,
   "metadata": {
    "collapsed": true
   },
   "outputs": [],
   "source": [
    "%matplotlib inline\n",
    "import matplotlib.pyplot as plt\n",
    "import numpy as np\n",
    "from sklearn import datasets"
   ]
  },
  {
   "cell_type": "markdown",
   "metadata": {},
   "source": [
    "Örnek olarak **Iris** veri setini seçtik. Bölümleme yapmadan doğrudan veri setini değişkenlere veriyoruz:"
   ]
  },
  {
   "cell_type": "code",
   "execution_count": 2,
   "metadata": {
    "collapsed": false
   },
   "outputs": [],
   "source": [
    "iris = datasets.load_iris()\n",
    "\n",
    "X = iris.data\n",
    "y = iris.target"
   ]
  },
  {
   "cell_type": "markdown",
   "metadata": {},
   "source": [
    "Model olarak KMeans seçtik. Amacımız, modelin verileri 3 kümeye ne kadar başarılı bir şekilde ayırdığını kontrol etmek olacak."
   ]
  },
  {
   "cell_type": "code",
   "execution_count": 3,
   "metadata": {
    "collapsed": false
   },
   "outputs": [
    {
     "data": {
      "text/plain": [
       "KMeans(algorithm='auto', copy_x=True, init='k-means++', max_iter=300,\n",
       "    n_clusters=3, n_init=10, n_jobs=1, precompute_distances='auto',\n",
       "    random_state=None, tol=0.0001, verbose=0)"
      ]
     },
     "execution_count": 3,
     "metadata": {},
     "output_type": "execute_result"
    }
   ],
   "source": [
    "from sklearn.cluster import KMeans\n",
    "\n",
    "model = KMeans(n_clusters=3)\n",
    "model.fit(X)"
   ]
  },
  {
   "cell_type": "markdown",
   "metadata": {},
   "source": [
    "Önceki örneklerden farklı olarak modele sadece X değerlerini verdik. Model eğitildikten sonra **model.labels_** değişkenine erişerek her bir eğitim örneği için atanan kümelere bakabiliriz:"
   ]
  },
  {
   "cell_type": "code",
   "execution_count": 4,
   "metadata": {
    "collapsed": false
   },
   "outputs": [
    {
     "name": "stdout",
     "output_type": "stream",
     "text": [
      "[0 0 0 0 0 0 0 0 0 0 0 0 0 0 0 0 0 0 0 0 0 0 0 0 0 0 0 0 0 0 0 0 0 0 0 0 0\n",
      " 0 0 0 0 0 0 0 0 0 0 0 0 0 1 1 2 1 1 1 1 1 1 1 1 1 1 1 1 1 1 1 1 1 1 1 1 1\n",
      " 1 1 1 2 1 1 1 1 1 1 1 1 1 1 1 1 1 1 1 1 1 1 1 1 1 1 2 1 2 2 2 2 1 2 2 2 2\n",
      " 2 2 1 1 2 2 2 2 1 2 1 2 1 2 2 1 1 2 2 2 2 2 1 2 2 2 2 1 2 2 2 1 2 2 2 1 2\n",
      " 2 1]\n"
     ]
    }
   ],
   "source": [
    "print model.labels_"
   ]
  },
  {
   "cell_type": "markdown",
   "metadata": {},
   "source": [
    "Modelin yaptığı kümelerle gerçek sınıfları karşılaştırmak için **adjusted_rand_score** kullanacağız. Bu sonuca göre model, verinin %73'ünü doğru bir şekilde kümeledi."
   ]
  },
  {
   "cell_type": "code",
   "execution_count": 5,
   "metadata": {
    "collapsed": false
   },
   "outputs": [
    {
     "name": "stdout",
     "output_type": "stream",
     "text": [
      "0.730238272283\n"
     ]
    }
   ],
   "source": [
    "from sklearn import metrics\n",
    "\n",
    "print metrics.adjusted_rand_score(model.labels_, y)"
   ]
  },
  {
   "cell_type": "markdown",
   "metadata": {},
   "source": [
    "Tabi çoğu kümele işinde örneklere ait sınıflar elimizde olmayacak. Bunun için farklı skorlama teknikleri de mevcut. Bunlardan bazıları:"
   ]
  },
  {
   "cell_type": "code",
   "execution_count": 6,
   "metadata": {
    "collapsed": false
   },
   "outputs": [
    {
     "name": "stdout",
     "output_type": "stream",
     "text": [
      "560.399924247\n",
      "0.552591944531\n"
     ]
    }
   ],
   "source": [
    "print metrics.calinski_harabaz_score(X, model.labels_)\n",
    "print metrics.silhouette_score(X, model.labels_)"
   ]
  },
  {
   "cell_type": "markdown",
   "metadata": {},
   "source": [
    "Her skorlama tekniğinin yorumlanması farklıdır. Örneğin [**Calinski Harabaz**](http://scikit-learn.org/stable/modules/clustering.html#calinski-harabaz-index) skoru ne kadar yüksek ise, başarı oranı o derece iyidir, fakat alt veya üst bir limit yoktur.\n",
    "\n",
    "Diğer skorlama tekniği olan [**Silhouette**](http://scikit-learn.org/stable/modules/clustering.html#silhouette-coefficient)'de ise skor değeri **-1.0** ile **1.0** arasındadır ve -1.0'a ne kadar yakınsa başarı oranı o kadar kötü, 1.0'a ne kadar yakınsa o kadar iyidir."
   ]
  }
 ],
 "metadata": {
  "anaconda-cloud": {},
  "kernelspec": {
   "display_name": "Python [conda env:datascience]",
   "language": "python",
   "name": "conda-env-datascience-py"
  },
  "language_info": {
   "codemirror_mode": {
    "name": "ipython",
    "version": 2
   },
   "file_extension": ".py",
   "mimetype": "text/x-python",
   "name": "python",
   "nbconvert_exporter": "python",
   "pygments_lexer": "ipython2",
   "version": "2.7.13"
  }
 },
 "nbformat": 4,
 "nbformat_minor": 2
}
