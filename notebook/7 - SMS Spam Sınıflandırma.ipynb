{
 "cells": [
  {
   "cell_type": "markdown",
   "metadata": {},
   "source": [
    "# AB2017 - Python ile Pratik Makine Öğrenimi\n",
    "\n",
    "Bu dökümanda İngilizce kısa mesaj (SMS) içeriklerden spam tespiti yapan bir sistem eğiteceğiz. Gerekli bazı importları yaparak başlıyoruz:"
   ]
  },
  {
   "cell_type": "code",
   "execution_count": 1,
   "metadata": {
    "collapsed": true
   },
   "outputs": [],
   "source": [
    "import pandas as pd\n",
    "import numpy as np\n",
    "from sklearn.feature_extraction.text import TfidfVectorizer"
   ]
  },
  {
   "cell_type": "markdown",
   "metadata": {},
   "source": [
    "Veri setini tab ile ayrışmış metin dosyasından yüklüyoruz. Test yüzdesi olarak %20 seçelim."
   ]
  },
  {
   "cell_type": "code",
   "execution_count": 2,
   "metadata": {
    "collapsed": true
   },
   "outputs": [],
   "source": [
    "from sklearn.model_selection import train_test_split\n",
    "\n",
    "dataset = pd.read_csv(\"data/SMSSpamCollection\", sep='\\t', header=None)\n",
    "\n",
    "X = dataset[1]\n",
    "y = dataset[0]\n",
    "\n",
    "X_train_raw, X_test_raw, y_train, y_test = train_test_split(X, y, test_size=0.2)\n"
   ]
  },
  {
   "cell_type": "markdown",
   "metadata": {},
   "source": [
    "Önceki sınıflandırma sistemlerinden farklı olarak, metin sınıflandırmada bize yardımcı bir araç gerekiyor: **TfidfVectorizer**. Bu sınıfı kullanarak değişken karakter sayısındaki metinlerden daima aynı sayıda öznitelik çıkartacağız ve istediğimiz modelde kullanacağız."
   ]
  },
  {
   "cell_type": "code",
   "execution_count": 6,
   "metadata": {
    "collapsed": false
   },
   "outputs": [],
   "source": [
    "vectorizer = TfidfVectorizer()\n",
    "X_train = vectorizer.fit_transform(X_train_raw)\n",
    "X_test = vectorizer.transform(X_test_raw)\n",
    "\n",
    "feature_size = X_train.shape[1]"
   ]
  },
  {
   "cell_type": "markdown",
   "metadata": {},
   "source": [
    "Önceki örneklerde olduğu gibi **GridSearchCV** kullanalım. **max_features** parametresine verilen değer sayısını az tutmakta fayda var zira kullandığımız **TfidfVectorizer** sistemi varsayılan haliyle bu sistemde 7000'den fazla öznitelik üretecek."
   ]
  },
  {
   "cell_type": "code",
   "execution_count": 7,
   "metadata": {
    "collapsed": false
   },
   "outputs": [
    {
     "name": "stdout",
     "output_type": "stream",
     "text": [
      "Eğitim Skoru: 0.9704\n",
      "Test Skoru: 0.9587\n"
     ]
    }
   ],
   "source": [
    "from sklearn.tree import DecisionTreeClassifier\n",
    "from sklearn.grid_search import GridSearchCV\n",
    "\n",
    "parameters = {\n",
    "    'max_depth': list(range(1, 21)),\n",
    "    'max_features': list(range(1, feature_size + 1, 500))\n",
    "}\n",
    "\n",
    "grid = GridSearchCV(estimator=DecisionTreeClassifier(),\n",
    "                    param_grid=parameters)\n",
    "\n",
    "grid.fit(X_train, y_train)\n",
    "\n",
    "print \"Eğitim Skoru: %.4f\" % grid.best_score_\n",
    "print \"Test Skoru: %.4f\" % grid.best_estimator_.score(X_test, y_test)"
   ]
  },
  {
   "cell_type": "code",
   "execution_count": 9,
   "metadata": {
    "collapsed": false,
    "scrolled": true
   },
   "outputs": [
    {
     "name": "stdout",
     "output_type": "stream",
     "text": [
      "Tahmin: ham\t Mesaj: Hmm. Shall i bring a bottle of wine to keep us amused? Just joking! I'll still bring a bottle. Red or white? See you tomorrow\n",
      "\n",
      "Tahmin: ham\t Mesaj: But i have to. I like to have love and arrange.\n",
      "\n",
      "Tahmin: spam\t Mesaj: Urgent Urgent! We have 800 FREE flights to Europe to give away, call B4 10th Sept & take a friend 4 FREE. Call now to claim on 09050000555. BA128NNFWFLY150ppm\n",
      "\n",
      "Tahmin: ham\t Mesaj: I hope you arnt pissed off but id would really like to see you tomorrow. Love me xxxxxxxxxxxxxX\n",
      "\n",
      "Tahmin: ham\t Mesaj: on a Tuesday night r u 4 real\n",
      "\n"
     ]
    }
   ],
   "source": [
    "predictions = grid.best_estimator_.predict(X_test)\n",
    "\n",
    "for (i, pred) in enumerate(predictions[:5]):\n",
    "    print(\"Tahmin: %s\\t Mesaj: %s\\n\" % (pred, X_test_raw.iloc[[i]].iat[0]))"
   ]
  },
  {
   "cell_type": "markdown",
   "metadata": {},
   "source": [
    "Model üstünden kendimiz tahminler yapmak istiyorsak, sınıflandırılacak metini önce vectorizer nesnesinden geçirip, öznitelik çıkarmamız gerecek."
   ]
  },
  {
   "cell_type": "code",
   "execution_count": 10,
   "metadata": {
    "collapsed": false
   },
   "outputs": [
    {
     "data": {
      "text/plain": [
       "'spam'"
      ]
     },
     "execution_count": 10,
     "metadata": {},
     "output_type": "execute_result"
    }
   ],
   "source": [
    "message_vec = vectorizer.transform([\"Free buy sms travel won urgent call claim\"])\n",
    "grid.best_estimator_.predict(message_vec)[0]"
   ]
  },
  {
   "cell_type": "markdown",
   "metadata": {},
   "source": [
    "Önceki sistemlerden farklı olarak sadece modeli değil, vectorizer nesnesini de kaydetmek zorundayız."
   ]
  },
  {
   "cell_type": "code",
   "execution_count": 11,
   "metadata": {
    "collapsed": true
   },
   "outputs": [],
   "source": [
    "import pickle\n",
    "\n",
    "with open(\"data/spam_detector_vectorizer.pkl\", 'wb') as f:\n",
    "    pickle.dump(vectorizer, f)\n",
    "    \n",
    "with open(\"data/spam_detector.pkl\", 'wb') as f:\n",
    "    pickle.dump(grid.best_estimator_, f)"
   ]
  }
 ],
 "metadata": {
  "anaconda-cloud": {},
  "kernelspec": {
   "display_name": "Python 2",
   "language": "python",
   "name": "python2"
  },
  "language_info": {
   "codemirror_mode": {
    "name": "ipython",
    "version": 2
   },
   "file_extension": ".py",
   "mimetype": "text/x-python",
   "name": "python",
   "nbconvert_exporter": "python",
   "pygments_lexer": "ipython2",
   "version": "2.7.13"
  }
 },
 "nbformat": 4,
 "nbformat_minor": 2
}
