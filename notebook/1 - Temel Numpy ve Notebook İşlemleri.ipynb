{
 "cells": [
  {
   "cell_type": "markdown",
   "metadata": {},
   "source": [
    "# AB2017 - Python ile Pratik Makine Öğrenimi\n",
    "\n",
    "Bu dökümanı basit bir Numpy ve Jupyter Notebook pratiği olması için oluşturduk."
   ]
  },
  {
   "cell_type": "code",
   "execution_count": 1,
   "metadata": {
    "collapsed": false
   },
   "outputs": [],
   "source": [
    "%matplotlib inline\n",
    "import matplotlib.pyplot as plt\n",
    "import numpy as np"
   ]
  },
  {
   "cell_type": "markdown",
   "metadata": {
    "collapsed": true
   },
   "source": [
    "Gerekli paketleri import ettik. Bundan sonra alttaki hücrelerde bir daha import yapmamıza gerek olmayacak. Şimdi çok basit bir örneğe bakalım. **-15**'den **15**'e kadar 1500 tane doğrusal değer oluşturduk ve bunların hepsini **sinüs** fonksiyonundan geçirdik. Bunuda grafik olarak çizdirdik."
   ]
  },
  {
   "cell_type": "code",
   "execution_count": 2,
   "metadata": {
    "collapsed": false
   },
   "outputs": [
    {
     "data": {
      "text/plain": [
       "<matplotlib.text.Text at 0x7f958e5a9790>"
      ]
     },
     "execution_count": 2,
     "metadata": {},
     "output_type": "execute_result"
    },
    {
     "data": {
      "image/png": "[encoded data removed]",
      "text/plain": [
       "<matplotlib.figure.Figure at 0x7f95b42b7590>"
      ]
     },
     "metadata": {},
     "output_type": "display_data"
    }
   ],
   "source": [
    "x = np.linspace(-15, 15, 1500)\n",
    "y = np.sin(x)\n",
    "\n",
    "plt.plot(x, y)\n",
    "plt.grid(True)\n",
    "plt.title(u\"Sinüs Dalga Grafigi\")"
   ]
  },
  {
   "cell_type": "markdown",
   "metadata": {},
   "source": [
    "Hücreler arasında değişkenlerde tutulan veriler taşınmakta. Bir hücrede, kendisinin üstündeki tüm değişkenlere ve modüllere erişebiliriz."
   ]
  },
  {
   "cell_type": "code",
   "execution_count": 3,
   "metadata": {
    "collapsed": true
   },
   "outputs": [],
   "source": [
    "x = 5\n",
    "y = 10"
   ]
  },
  {
   "cell_type": "markdown",
   "metadata": {},
   "source": [
    "Aşağıdaki hücrede **x** ve **y** değişkenlerini tanımlamadık ve doğrudan erişebildik."
   ]
  },
  {
   "cell_type": "code",
   "execution_count": 4,
   "metadata": {
    "collapsed": false
   },
   "outputs": [
    {
     "name": "stdout",
     "output_type": "stream",
     "text": [
      "X'in değeri: 5\n",
      "Y'nin değeri: 10\n"
     ]
    }
   ],
   "source": [
    "print \"X'in değeri: %d\" % x\n",
    "print \"Y'nin değeri: %d\" % y"
   ]
  },
  {
   "cell_type": "markdown",
   "metadata": {},
   "source": [
    "Şimdi ise Numpy kütüphanesi ile ilgili ufak örneklere bakalım. Üstteki hücrelerden birinde zaten bu kütüphaneyi **np** ismi ile import ettik. Şimdi ise direkt olarak matrisleri oluşturup kullanabiliriz."
   ]
  },
  {
   "cell_type": "code",
   "execution_count": 5,
   "metadata": {
    "collapsed": false
   },
   "outputs": [
    {
     "name": "stdout",
     "output_type": "stream",
     "text": [
      "[[1]\n",
      " [2]\n",
      " [3]]\n"
     ]
    }
   ],
   "source": [
    "X = np.array([\n",
    "    [1, 0, 0],\n",
    "    [0, 1, 0],\n",
    "    [0, 0, 1]\n",
    "])\n",
    "\n",
    "y = np.array([\n",
    "    [1, 2, 3]\n",
    "])\n",
    "\n",
    "print X.dot(y.T)"
   ]
  },
  {
   "cell_type": "markdown",
   "metadata": {},
   "source": [
    "Matrisler doğrudan içine verilen verinin boyutlarını almaktadır. Bunun yanı sıra herhangi bir matriste **.T** methodu kullanılırsa, matrisin transpozu elde edilir. Burada **X** ve **y** matrislerini çarpabilmek için **y**'nin transpozunu aldık. Bu matrisler üstünde çeşitli matematiksel işlemler yapılabilir.\n",
    "\n",
    "Numpy ile doğrudan tamamı sıfırlardan veya birlerden oluşan matrisler üretebiliriz. Fonksiyona verdiğimiz **tuple** tipindeki parametre, matrisin boyutlarını göstermekte."
   ]
  },
  {
   "cell_type": "code",
   "execution_count": 6,
   "metadata": {
    "collapsed": false
   },
   "outputs": [
    {
     "name": "stdout",
     "output_type": "stream",
     "text": [
      "[[ 0.  0.  0.  0.  0.]\n",
      " [ 0.  0.  0.  0.  0.]\n",
      " [ 0.  0.  0.  0.  0.]\n",
      " [ 0.  0.  0.  0.  0.]\n",
      " [ 0.  0.  0.  0.  0.]]\n",
      "\n",
      "[[ 1.  1.  1.  1.  1.]\n",
      " [ 1.  1.  1.  1.  1.]\n",
      " [ 1.  1.  1.  1.  1.]\n",
      " [ 1.  1.  1.  1.  1.]\n",
      " [ 1.  1.  1.  1.  1.]]\n"
     ]
    }
   ],
   "source": [
    "Z = np.zeros((5, 5))\n",
    "\n",
    "print Z\n",
    "\n",
    "T = np.ones((5, 5))\n",
    "\n",
    "print\n",
    "print T"
   ]
  },
  {
   "cell_type": "markdown",
   "metadata": {},
   "source": [
    "Numpy aynı zamanda rastgele sayılarla dolu matrisler oluşturabilmemizi de sağlar. **rand** fonksiyonunda rastgele sayılar 0 ile 1 arasında üniform dağılımdan seçilir."
   ]
  },
  {
   "cell_type": "code",
   "execution_count": 7,
   "metadata": {
    "collapsed": false
   },
   "outputs": [
    {
     "name": "stdout",
     "output_type": "stream",
     "text": [
      "[[ 0.95976835  0.57031955  0.86061485  0.76015348  0.35056207]\n",
      " [ 0.77193259  0.73488754  0.75739893  0.46054358  0.10463308]\n",
      " [ 0.23342253  0.88049251  0.83994964  0.91458152  0.85693485]\n",
      " [ 0.84109432  0.17067028  0.52268065  0.82224285  0.99228218]\n",
      " [ 0.46564686  0.75313152  0.67674018  0.69073974  0.91965419]]\n"
     ]
    }
   ],
   "source": [
    "R = np.random.rand(5, 5)\n",
    "\n",
    "print R"
   ]
  },
  {
   "cell_type": "markdown",
   "metadata": {},
   "source": [
    "Bunun bi benzeri olarak **randint** kullanabiliriz. Burada 5 ile 25 arasında sayılar oluşturuyoruz."
   ]
  },
  {
   "cell_type": "code",
   "execution_count": 8,
   "metadata": {
    "collapsed": false
   },
   "outputs": [
    {
     "name": "stdout",
     "output_type": "stream",
     "text": [
      "[[14  5 20 18]\n",
      " [13 19 10  6]\n",
      " [18 22 18 20]\n",
      " [21 21 24 11]]\n"
     ]
    }
   ],
   "source": [
    "I = np.random.randint(5, 25, (4, 4))\n",
    "\n",
    "print I"
   ]
  },
  {
   "cell_type": "markdown",
   "metadata": {},
   "source": [
    "Her matrisin bir veritipi vardır. Bu veritipine göre üstüne yapılan işlemler değişiklik gösterebilir."
   ]
  },
  {
   "cell_type": "code",
   "execution_count": 9,
   "metadata": {
    "collapsed": false
   },
   "outputs": [
    {
     "name": "stdout",
     "output_type": "stream",
     "text": [
      "float64\n",
      "int64\n"
     ]
    }
   ],
   "source": [
    "print R.dtype\n",
    "print I.dtype"
   ]
  },
  {
   "cell_type": "markdown",
   "metadata": {},
   "source": [
    "Bu matrisler başka veritiplerine de dönüştürülüp kullanılabilirler."
   ]
  },
  {
   "cell_type": "code",
   "execution_count": 10,
   "metadata": {
    "collapsed": false
   },
   "outputs": [
    {
     "name": "stdout",
     "output_type": "stream",
     "text": [
      "[[ 14.   5.  20.  18.]\n",
      " [ 13.  19.  10.   6.]\n",
      " [ 18.  22.  18.  20.]\n",
      " [ 21.  21.  24.  11.]]\n",
      "\n",
      "[[0 0 0 0 0]\n",
      " [0 0 0 0 0]\n",
      " [0 0 0 0 0]\n",
      " [0 0 0 0 0]\n",
      " [0 0 0 0 0]]\n"
     ]
    }
   ],
   "source": [
    "print I.astype('float64')\n",
    "\n",
    "print\n",
    "print R.astype('int64')"
   ]
  },
  {
   "cell_type": "markdown",
   "metadata": {},
   "source": [
    "Son olarak matrisleri dosyadan okuma ve dosyaya yazma işlemlerine gözatalım. Elimizdeki düzgün bir **Numpy** matrisini kaydetmek için **np.savetxt** kullanacağız. Sonrasında kaydettiğimiz **CSV** dosyasını geri yükleyip matrise tekrardan ulaşacağız:"
   ]
  },
  {
   "cell_type": "code",
   "execution_count": 11,
   "metadata": {
    "collapsed": false
   },
   "outputs": [],
   "source": [
    "data = np.array([\n",
    "    [1, 0, 0],\n",
    "    [0, 1, 0],\n",
    "    [0, 0, 1]\n",
    "], dtype=np.float32)\n",
    "\n",
    "np.savetxt(\"data/dosya.csv\", data, delimiter=\",\")"
   ]
  },
  {
   "cell_type": "code",
   "execution_count": 12,
   "metadata": {
    "collapsed": false
   },
   "outputs": [
    {
     "name": "stdout",
     "output_type": "stream",
     "text": [
      "[[ 1.  0.  0.]\n",
      " [ 0.  1.  0.]\n",
      " [ 0.  0.  1.]]\n"
     ]
    }
   ],
   "source": [
    "data = np.loadtxt(\"data/dosya.csv\", delimiter=\",\", dtype=np.float32)\n",
    "\n",
    "print data"
   ]
  }
 ],
 "metadata": {
  "anaconda-cloud": {},
  "kernelspec": {
   "display_name": "Python 2",
   "language": "python",
   "name": "python2"
  },
  "language_info": {
   "codemirror_mode": {
    "name": "ipython",
    "version": 2
   },
   "file_extension": ".py",
   "mimetype": "text/x-python",
   "name": "python",
   "nbconvert_exporter": "python",
   "pygments_lexer": "ipython2",
   "version": "2.7.13"
  }
 },
 "nbformat": 4,
 "nbformat_minor": 2
}
