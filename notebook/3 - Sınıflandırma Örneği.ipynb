{
 "cells": [
  {
   "cell_type": "markdown",
   "metadata": {},
   "source": [
    "# AB2017 - Python ile Pratik Makine Öğrenimi\n",
    "\n",
    "Bu dökümanda sınıflandırma tipi makine öğrenimi örneği yapacağız. Öncelikle gerekli modülleri import ediyoruz:"
   ]
  },
  {
   "cell_type": "code",
   "execution_count": 1,
   "metadata": {
    "collapsed": true
   },
   "outputs": [],
   "source": [
    "%matplotlib inline\n",
    "import matplotlib.pyplot as plt\n",
    "import numpy as np\n",
    "from sklearn import datasets"
   ]
  },
  {
   "cell_type": "markdown",
   "metadata": {},
   "source": [
    "Bu örnekte el yazısı rakam veri setini kullanacağız. Amacımız 8x8'lik siyah beyaz resimlerden oluşan girdileri (input), 0'dan 9'a kadar rakamlarla eşleştirmek. Bunun için test veri seti genelin %50'si olacak şekilde ayarlıyoruz."
   ]
  },
  {
   "cell_type": "code",
   "execution_count": 2,
   "metadata": {
    "collapsed": false
   },
   "outputs": [],
   "source": [
    "from sklearn.model_selection import train_test_split\n",
    "\n",
    "number_dataset = datasets.load_digits()\n",
    "\n",
    "X = number_dataset.data\n",
    "y = number_dataset.target\n",
    "\n",
    "X_train, X_test, y_train, y_test = train_test_split(X, y, test_size=0.5)"
   ]
  },
  {
   "cell_type": "markdown",
   "metadata": {},
   "source": [
    "Model olarak destek vektör makinesi (Support Vector Machine - SVM) türünde bir sınıflandırıcı olan SVC'yi kullandık. Bunun için **gamma** parametresi olarak **0.001** verdik ve zorlanmadan yaklaşık %98'lik bir hassasiyete ulaştık."
   ]
  },
  {
   "cell_type": "code",
   "execution_count": 3,
   "metadata": {
    "collapsed": false
   },
   "outputs": [
    {
     "name": "stdout",
     "output_type": "stream",
     "text": [
      "0.982202447164\n"
     ]
    }
   ],
   "source": [
    "from sklearn.svm import SVC\n",
    "\n",
    "model = SVC(gamma=0.001, probability=True)\n",
    "model.fit(X_train, y_train)\n",
    "\n",
    "print model.score(X_test, y_test)"
   ]
  },
  {
   "cell_type": "markdown",
   "metadata": {},
   "source": [
    "Şimdi örnek olsun diye, test veri setinden 101. resmi alıyoruz. Model üstünden tahmin ettiğimizde de, ekrana bastığımızda da doğru sonuç çıkıyor."
   ]
  },
  {
   "cell_type": "code",
   "execution_count": 4,
   "metadata": {
    "collapsed": false
   },
   "outputs": [
    {
     "name": "stdout",
     "output_type": "stream",
     "text": [
      "9\n"
     ]
    },
    {
     "data": {
      "text/plain": [
       "<matplotlib.image.AxesImage at 0x7f6b3155d250>"
      ]
     },
     "execution_count": 4,
     "metadata": {},
     "output_type": "execute_result"
    },
    {
     "data": {
      "image/png": "[encoded data removed]",
      "text/plain": [
       "<matplotlib.figure.Figure at 0x7f6b3399a410>"
      ]
     },
     "metadata": {},
     "output_type": "display_data"
    }
   ],
   "source": [
    "sample = X_test[100, :]\n",
    "\n",
    "print model.predict(sample.reshape(1, -1))[0]\n",
    "\n",
    "plt.imshow(sample.reshape(8, 8), cmap=plt.cm.gray_r, interpolation='nearest')"
   ]
  },
  {
   "cell_type": "markdown",
   "metadata": {},
   "source": [
    "Bunun yanı sıra model üstündeki skorların hepsini hızlıca çıkartabiliriz:"
   ]
  },
  {
   "cell_type": "code",
   "execution_count": 5,
   "metadata": {
    "collapsed": false
   },
   "outputs": [
    {
     "name": "stdout",
     "output_type": "stream",
     "text": [
      "             precision    recall  f1-score   support\n",
      "\n",
      "          0       1.00      1.00      1.00        87\n",
      "          1       1.00      0.97      0.98        92\n",
      "          2       1.00      0.99      1.00       105\n",
      "          3       0.98      0.99      0.98        85\n",
      "          4       0.97      0.99      0.98        87\n",
      "          5       0.98      0.96      0.97        97\n",
      "          6       0.99      1.00      0.99        94\n",
      "          7       1.00      0.97      0.98        93\n",
      "          8       0.94      0.97      0.95        76\n",
      "          9       0.96      0.99      0.98        83\n",
      "\n",
      "avg / total       0.98      0.98      0.98       899\n",
      "\n"
     ]
    }
   ],
   "source": [
    "from sklearn.metrics import classification_report\n",
    "\n",
    "print classification_report(model.predict(X_test), y_test)"
   ]
  },
  {
   "cell_type": "markdown",
   "metadata": {},
   "source": [
    "Şimdi ise farklı bir duruma gözatalım. Ya bu modele verdiğimiz girdi (input), hiçbir sınıfa ait değilse ne olacak? Örneğin girdi olarak bir harf verirsek, ne olmasını beklemeliyiz? Veya tamamen beyaz bir alan?\n",
    "\n",
    "Bu noktada modelimiz başta ne için tasarlandıysa onu gerçekleştirecek. Yani kendisine verilen 1x64 boyutundaki bir matrisi, 10 sınıftan birisine (0'dan 9'a sayılara) eşitleyecek. Kısaca yanlış bir sonuç verecek.\n",
    "\n",
    "Bu durumu kontrol altına alabilmek için yukarıda **SVC** sınıflandırıcısının içine **probability=True** şeklinde bir anahtar kelime argümanı verdik. Bu sayede modelimiz, kendisine verilen girdi için her sınıfa ait olasılık değerlerini hesaplayacak. Bu olasılık değerlerine **confidence** denir. Şimdi bununla ilgili bir örnek yapalım. Öncelikle düzgün bir girdi kullanalım:"
   ]
  },
  {
   "cell_type": "code",
   "execution_count": 6,
   "metadata": {
    "collapsed": false,
    "scrolled": true
   },
   "outputs": [
    {
     "name": "stdout",
     "output_type": "stream",
     "text": [
      "Tahmin edilen sınıf: 9\n",
      "Olasılık değerleri:\n",
      "[ 0.00167425  0.00189548  0.00434559  0.00517316  0.00176685  0.00521049\n",
      "  0.00149446  0.00192142  0.0015688   0.9749495 ]\n"
     ]
    }
   ],
   "source": [
    "sample = X_test[100, :].reshape(1, -1) # Tekrardan 101. örneği seçiyoruz\n",
    "\n",
    "print(u\"Tahmin edilen sınıf: %d\" % model.predict(sample)[0])\n",
    "print(u\"Olasılık değerleri:\")\n",
    "print(model.predict_proba(sample)[0])"
   ]
  },
  {
   "cell_type": "markdown",
   "metadata": {},
   "source": [
    "Görüldüğü üzere (0'dan başlayarak) 9. sıradaki olasılık değeri hepsinden büyük. Buna bakarak, girdinin 9. sınıfa ait olması gerektiğini söyleyebiliriz. Şimdi ise tamamen beyazdan oluşan bir görüntü matrisi oluşturalım ve kullanalım."
   ]
  },
  {
   "cell_type": "code",
   "execution_count": 7,
   "metadata": {
    "collapsed": false,
    "scrolled": true
   },
   "outputs": [
    {
     "name": "stdout",
     "output_type": "stream",
     "text": [
      "Tahmin edilen sınıf: 1\n",
      "Olasılık değerleri:\n",
      "[ 0.03628292  0.18337427  0.10397415  0.09513264  0.09420599  0.13240361\n",
      "  0.03351041  0.1166951   0.09430536  0.11011554]\n"
     ]
    },
    {
     "data": {
      "text/plain": [
       "<matplotlib.image.AxesImage at 0x7f6b314f3950>"
      ]
     },
     "execution_count": 7,
     "metadata": {},
     "output_type": "execute_result"
    },
    {
     "data": {
      "image/png": "[encoded data removed]",
      "text/plain": [
       "<matplotlib.figure.Figure at 0x7f6b31599210>"
      ]
     },
     "metadata": {},
     "output_type": "display_data"
    }
   ],
   "source": [
    "sample = np.zeros((1, 64), dtype=np.int16)\n",
    "\n",
    "print(u\"Tahmin edilen sınıf: %d\" % model.predict(sample)[0])\n",
    "print(u\"Olasılık değerleri:\")\n",
    "print(model.predict_proba(sample)[0])\n",
    "\n",
    "plt.imshow(sample.reshape(8, 8), cmap=plt.cm.gray_r, interpolation='nearest')"
   ]
  },
  {
   "cell_type": "markdown",
   "metadata": {},
   "source": [
    "Görüldüğü üzere hiçbir rakama denk olmayan bir girdi verdik ve bize bunun 1 rakamı olduğunu söyledi. Ama **confidence** değerlerine baktığımızda 1. sıradaki olasılık değerinin %16 civarında olduğunu görüyoruz. Yani bu sistem, sonucun 1. sınıfa ait olduğuna %16 ihtimalle emin.\n",
    "\n",
    "Sadece buna bakarak, yapılan tahminin başarılı veya başarısız olduğunu söylememiz mümkündür. Çözmek istediğiniz probleme göre olacak şekilde, **confidence** değeri için bir eşik değeri seçip tahminin kendisinin başarılı olup olmadığına karar verebilirsiniz. Örneğin: \"*Eğer tahminin confidence değeri %80'in altındaysa, tahmini başarısız olarak kabul et.*\" gibi.\n",
    "\n",
    "Sınıflandırıcı modelin confidence değerini üretmesi için belirli parametreler vermeniz gerekebilir. Bazı modellerde ise confidence değerleri otomatik olarak üretilir (Karar Ağaçları veya Softmax aktivasyonuna sahip sinir ağları gibi)."
   ]
  }
 ],
 "metadata": {
  "anaconda-cloud": {},
  "kernelspec": {
   "display_name": "Python 2",
   "language": "python",
   "name": "python2"
  },
  "language_info": {
   "codemirror_mode": {
    "name": "ipython",
    "version": 2
   },
   "file_extension": ".py",
   "mimetype": "text/x-python",
   "name": "python",
   "nbconvert_exporter": "python",
   "pygments_lexer": "ipython2",
   "version": "2.7.13"
  }
 },
 "nbformat": 4,
 "nbformat_minor": 2
}
